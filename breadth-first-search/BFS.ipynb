{
 "cells": [
  {
   "cell_type": "markdown",
   "metadata": {},
   "source": [
    "# Breadth-First search"
   ]
  },
  {
   "cell_type": "markdown",
   "metadata": {},
   "source": [
    "There are many ways to traverse graphs. BFS is the most commonly used approach. As the name BFS suggests, you are required to traverse the graph breadthwise as follows:\n",
    "* First move horizontally and visit all the nodes of the current layer\n",
    "* Move to the next layer"
   ]
  },
  {
   "cell_type": "markdown",
   "metadata": {},
   "source": [
    "![image graph](https://akinariobi.gitbooks.io/pythonicals/content/assets/gr.png)"
   ]
  },
  {
   "cell_type": "markdown",
   "metadata": {},
   "source": [
    "The distance between the nodes in layer 1 is comparitively lesser than the distance between the nodes in layer 2. Therefore, in BFS, you must traverse all the nodes in layer 1 before you move to the nodes in layer 2."
   ]
  },
  {
   "cell_type": "markdown",
   "metadata": {},
   "source": [
    "### Implementing BFS in Python"
   ]
  },
  {
   "cell_type": "code",
   "execution_count": 2,
   "metadata": {},
   "outputs": [],
   "source": [
    "def breadth_first_search(graph, start, end):\n",
    "    \"\"\"\n",
    "    :param graph: graph represented as list of lists\n",
    "    :param start: starting node\n",
    "    :param end: end node \n",
    "    \"\"\"\n",
    "    queue = []\n",
    "    visited = {}\n",
    "    parent = {}\n",
    "\n",
    "    for node in range(len(graph)):\n",
    "        visited[node] = False\n",
    "        parent[node] = None\n",
    "\n",
    "    queue.append(start)\n",
    "    while len(queue) != 0:\n",
    "        current = queue.pop(0)\n",
    "        if current == end:\n",
    "            print (tracepath(parent, start, end))\n",
    "            break\n",
    "        for neighbor in graph[current]:\n",
    "            if visited[neighbor] == False:\n",
    "                visited[neighbor] = True\n",
    "                parent[neighbor] = current\n",
    "                queue.append(neighbor)\n",
    "    print (visited, parent, end)\n",
    "\n",
    "def tracepath(parent, start, end):\n",
    "    \"\"\"\n",
    "    Returns elements of the path.\n",
    "\n",
    "    :param parent: node-parent dict\n",
    "    :param start: starting node\n",
    "    :param end: end node\n",
    "    :rbrtype: list\n",
    "    \"\"\"\n",
    "    path = [end]\n",
    "    while path[-1] != start:\n",
    "        path.append(parent[path[-1]])\n",
    "    path.reverse()\n",
    "    return path\n"
   ]
  },
  {
   "cell_type": "markdown",
   "metadata": {},
   "source": [
    "### Bidirectional BFS"
   ]
  },
  {
   "cell_type": "markdown",
   "metadata": {},
   "source": [
    "Simultaneously run two BFS's from both source and target vertices, terminating once a vertex common to both runs is discovered. This vertex will be halfway between the source and the target."
   ]
  },
  {
   "cell_type": "markdown",
   "metadata": {},
   "source": [
    "**Why is it better than BFS?**"
   ]
  },
  {
   "cell_type": "markdown",
   "metadata": {},
   "source": [
    "Bi-directional BFS will yield much better results than simple BFS in most cases. Assume the distance between source and target isk, and the branching factor isB(every vertex has on average B edges).\n",
    "* BFS will traverse `1 + B + B^2 + ... + B^k` vertices\n",
    "* Bidirectional BFS will traverse `2 + 2B^2 + ... + 2B^(k/2)` vertices"
   ]
  },
  {
   "cell_type": "markdown",
   "metadata": {},
   "source": [
    "[Article about BFS by Robert Platt](http://www.ccs.neu.edu/home/rplatt/cs5335_2016/slides/bfs_ucs.pdf)"
   ]
  },
  {
   "cell_type": "markdown",
   "metadata": {},
   "source": [
    "[Rush Hour Solver created using BFS](https://github.com/akinariobi/rush-hour-bfs)"
   ]
  }
 ],
 "metadata": {
  "kernelspec": {
   "display_name": "Python 3",
   "language": "python",
   "name": "python3"
  },
  "language_info": {
   "codemirror_mode": {
    "name": "ipython",
    "version": 3
   },
   "file_extension": ".py",
   "mimetype": "text/x-python",
   "name": "python",
   "nbconvert_exporter": "python",
   "pygments_lexer": "ipython3",
   "version": "3.5.3"
  }
 },
 "nbformat": 4,
 "nbformat_minor": 2
}
